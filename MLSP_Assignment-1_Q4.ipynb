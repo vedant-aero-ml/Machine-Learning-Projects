{
 "cells": [
  {
   "cell_type": "code",
   "execution_count": 1,
   "id": "16272de7",
   "metadata": {},
   "outputs": [],
   "source": [
    "import matplotlib.pyplot as plt\n",
    "from scipy.linalg import eigh\n",
    "from PIL import Image\n",
    "import pandas as pd\n",
    "import numpy as np\n",
    "import glob\n",
    "import os"
   ]
  },
  {
   "cell_type": "markdown",
   "id": "5b247f86",
   "metadata": {},
   "source": [
    "# Function to return data in 2D numpy array and training labels\n"
   ]
  },
  {
   "cell_type": "code",
   "execution_count": 2,
   "id": "aef49746",
   "metadata": {},
   "outputs": [],
   "source": [
    "def data_and_labels(path):\n",
    "    \n",
    "    image_list = []\n",
    "    for filename in glob.glob(path + '*.gif'):\n",
    "        im=Image.open(filename)\n",
    "        image_list.append(im)\n",
    "    \n",
    "    data = [0]*len(image_list)\n",
    "    for i,image in enumerate(image_list):\n",
    "        data[i] = np.array(image)\n",
    "    \n",
    "    data = np.array(data) # Contains the image data as numpy array\n",
    "    \n",
    "    names = os.listdir(path)\n",
    "    \n",
    "    labels = []\n",
    "    \n",
    "    #### 1: Happy\n",
    "    #### 0: Sad\n",
    "    \n",
    "    for name in names:\n",
    "        if 'happy' in name:\n",
    "            labels.append(1) \n",
    "        elif 'sad' in name:\n",
    "            labels.append(0)\n",
    "        \n",
    "    labels = np.array(labels) # Contains the class labels as numpy array\n",
    "        \n",
    "    return data, labels\n",
    "    "
   ]
  },
  {
   "cell_type": "markdown",
   "id": "7e674d92",
   "metadata": {},
   "source": [
    "# Function to perform PCA and LDA to reduce to one dimenson"
   ]
  },
  {
   "cell_type": "code",
   "execution_count": 3,
   "id": "fc9e8772",
   "metadata": {},
   "outputs": [],
   "source": [
    "def pca_lda_1(data, labels, d):\n",
    "    \n",
    "    N, D = data.shape[0], data.shape[1]\n",
    "    \n",
    "    X = data.reshape(N,D*D) # Matrix flattening operation\n",
    "    mean = np.mean(X,axis=0)\n",
    "    X = X-mean # Obtaining the centered data\n",
    "    \n",
    "    # cov_mod is the modified covariance matrix given by X*X.T\n",
    "    cov_mod = X@X.T\n",
    "    cov_mod = cov_mod/N\n",
    "    \n",
    "    eigvals, eigvecs = eigh(cov_mod)\n",
    "    \n",
    "    # Reversing order of arrays to represent greatest to smallest values\n",
    "    eigvals = eigvals[::-1]\n",
    "    v = eigvecs[::-1]\n",
    "    \n",
    "    # Removing last entry from eigenvalues and eigenvectors as they can give zero division error\n",
    "    eigvals = eigvals[:-1]\n",
    "    v = v[:-1]\n",
    "    \n",
    "    # Slicing v to meed the desired number of principal components (d<=19)\n",
    "    \n",
    "    v = v[0:d]\n",
    "    \n",
    "    # Computing u from v\n",
    "    \n",
    "    u = []\n",
    "    for i, vector in enumerate(v):\n",
    "        u.append(X.T@(vector/((N*eigvals[i])**0.5)))\n",
    "        \n",
    "    u = np.array(u)\n",
    "    \n",
    "    # Multiplying sample data with u to get data with reduced dimensionality\n",
    "    \n",
    "    sample_data = data.reshape(N,D*D)\n",
    "    \n",
    "    y = np.matmul(u, sample_data.T)\n",
    "    \n",
    "    # Stacking the data into Pandas data frame for ease of manipulation and fast manipulation\n",
    "    \n",
    "    pca_data = np.vstack((y, labels)).T\n",
    "    \n",
    "    df = pd.DataFrame(data = pca_data)\n",
    "    \n",
    "    Sw = np.zeros((d,d))\n",
    "    \n",
    "    unique_labels = np.unique(labels)\n",
    "    \n",
    "    # Class wise operation to create within variance matrix\n",
    "    means =[]\n",
    "    \n",
    "    for c in unique_labels:\n",
    "        Xc = df[df[d]==c].iloc[:,0:d]\n",
    "        samples = Xc.shape[0]\n",
    "        mean_c = np.mean(Xc.iloc[:,0:d], axis = 0)\n",
    "        means.append(mean_c)\n",
    "        Sw += ((Xc-mean_c).T.dot(Xc-mean_c))/samples\n",
    "        \n",
    "    means = np.array(means)\n",
    "    mean_diff = (means[0]-means[1]).reshape(d,1)\n",
    "    \n",
    "    lda_multiplier = np.linalg.inv(Sw)@(means[0]-means[1]) # Multiplier matrix to give data with reduced dimensionality of one\n",
    "    \n",
    "    output  = df.iloc[:,:d]@lda_multiplier # Storing training output for subsequent operation\n",
    "    \n",
    "    \n",
    "    return u, lda_multiplier, output\n"
   ]
  },
  {
   "cell_type": "code",
   "execution_count": 4,
   "id": "1845391c",
   "metadata": {},
   "outputs": [],
   "source": [
    "def find_threshold(output, labels):\n",
    "    \n",
    "    plotter = np.vstack((output, labels)).T\n",
    "    \n",
    "    x1 = [] # Stores values of Sad faces\n",
    "    x0 = [] # Stores values for Happpy faces\n",
    "    \n",
    "    for data in plotter:\n",
    "        if (data[1]==1):\n",
    "            x1.append(data[0])\n",
    "        \n",
    "        elif (data[1]==0):\n",
    "            x0.append(data[0])\n",
    "    \n",
    "    threshold = (max(x1)+min(x0))/2 # Threshold for classification\n",
    "    \n",
    "    return x1, x0, threshold"
   ]
  },
  {
   "cell_type": "code",
   "execution_count": 5,
   "id": "8bca0508",
   "metadata": {},
   "outputs": [],
   "source": [
    "def plot_LDA(x1, x0, threshold):\n",
    "    \n",
    "    x1_error, x0_error = 0, 0\n",
    "    \n",
    "    ### ERRORS IN 1:Happy\n",
    "    \n",
    "    for x in x1:\n",
    "        if (x>threshold):\n",
    "            x1_error = x1_error + 1\n",
    "    \n",
    "    ### ERRORS IN 0:Sad\n",
    "    \n",
    "    for x in x0:\n",
    "        if(x<threshold):\n",
    "            x0_error = x0_error + 1\n",
    "            \n",
    "    accuracy = (1 - ((x1_error+x0_error)/(len(x1)+len(x0))))*100\n",
    "    \n",
    "    print(\"Accuracy = \", accuracy, \"%\")\n",
    "    print(\"Threshold (X) = \", threshold)\n",
    "    \n",
    "    y1 = [0]*len(x1)\n",
    "    y0 = [0]*len(x0)\n",
    "    \n",
    "    f = plt.figure()\n",
    "    f.set_figwidth(12)\n",
    "    f.set_figheight(5)\n",
    "    \n",
    "    # Green represents Happy while blue represents Sad\n",
    "    plt.scatter(x1,y1,c=\"green\", label = 'Happy')\n",
    "    plt.scatter(x0,y0,c=\"blue\", label = 'Sad')\n",
    "    plt.axvline(x = threshold, color = 'black') # Plotting the threshold\n",
    "    plt.text(threshold + 1, 0.03, 'SAD ->', fontsize = 12, color = 'blue')\n",
    "    plt.text(threshold - 3, 0.03, '<- HAPPY', fontsize = 12, color = 'green')\n",
    "    plt.legend()\n",
    "    plt.show()\n",
    "    "
   ]
  },
  {
   "cell_type": "markdown",
   "id": "75a442b5",
   "metadata": {},
   "source": [
    "# Function to obtain parameters & return training results"
   ]
  },
  {
   "cell_type": "code",
   "execution_count": 6,
   "id": "8628895d",
   "metadata": {},
   "outputs": [],
   "source": [
    "def model_training(path, d):\n",
    "    \n",
    "    ## INPUTS: Path, 'd' - Desired number of Reduced Dimensions\n",
    "    \n",
    "    ## RETURNS: Trained U Matrix, Trained LDA Multiplier, Trained value of Classification Threshold\n",
    "    \n",
    "\n",
    "    train_data, train_labels = data_and_labels(path)\n",
    "\n",
    "    trained_u, trained_lda_multiplier, train_output = pca_lda_1(train_data, train_labels, d)\n",
    "\n",
    "    x1, x0, trained_threshold = find_threshold(train_output, train_labels)\n",
    "    \n",
    "    plot_LDA(x1, x0, trained_threshold)\n",
    "    \n",
    "    return trained_u, trained_lda_multiplier, trained_threshold"
   ]
  },
  {
   "cell_type": "markdown",
   "id": "a6650369",
   "metadata": {},
   "source": [
    "# Function to fit trained parameters onto test data"
   ]
  },
  {
   "cell_type": "code",
   "execution_count": 7,
   "id": "ff82f665",
   "metadata": {},
   "outputs": [],
   "source": [
    "def model_testing(path, trained_u, trained_lda_multiplier, trained_threshold):\n",
    "    \n",
    "    ## INPUTS: Path, Trained U Matrix, Trained LDA Multiplier, Trained value of Classification Threshold\n",
    "    \n",
    "    ## RETURNS: Plot on 1D & Testing Accuracy\n",
    "    \n",
    "    \n",
    "    test_data, test_labels = data_and_labels(path)\n",
    "\n",
    "    test_data = test_data.reshape(test_data.shape[0],test_data.shape[1]*test_data.shape[2])\n",
    "\n",
    "    pca_on_test = np.matmul(trained_u, test_data.T)\n",
    "\n",
    "    lda_on_test = pca_on_test.T@trained_lda_multiplier\n",
    "    \n",
    "    plotter = np.vstack((lda_on_test, test_labels)).T\n",
    "    \n",
    "    x1 = [] # Stores values of Sad faces\n",
    "    x0 = [] # Stores values for Happpy faces\n",
    "    \n",
    "    for data in plotter:\n",
    "        if (data[1]==1):\n",
    "            x1.append(data[0])\n",
    "        \n",
    "        elif (data[1]==0):\n",
    "            x0.append(data[0])\n",
    "    \n",
    "    plot_LDA(x1, x0, trained_threshold)\n",
    "    \n",
    "    "
   ]
  },
  {
   "cell_type": "markdown",
   "id": "9e4685ed",
   "metadata": {},
   "source": [
    "# Training the model"
   ]
  },
  {
   "cell_type": "code",
   "execution_count": 8,
   "id": "37eec02d",
   "metadata": {},
   "outputs": [
    {
     "name": "stdout",
     "output_type": "stream",
     "text": [
      "Accuracy =  100.0 %\n",
      "Threshold (X) =  -4.433774774937715\n"
     ]
    },
    {
     "data": {
      "image/png": "[encoded data removed]",
      "text/plain": [
       "<Figure size 864x360 with 1 Axes>"
      ]
     },
     "metadata": {
      "needs_background": "light"
     },
     "output_type": "display_data"
    }
   ],
   "source": [
    "path = 'Data_Q4/emotion_classification/train/'\n",
    "K = 16 ####### 'd' HAS TO BE LESS THAN OR EQUAL TO 19\n",
    "trained_u, trained_lda_multiplier, trained_threshold = model_training(path, K)\n",
    "\n",
    "# Values beyond - 4.4337 are classified as Happy\n",
    "# Values above - 4.4337 are classified as Sad\n",
    "\n",
    "# On training for d>=18, we observe that all negative values are classified as Happy and positive as Sad; indicating of a \n",
    "# signum type classification possibility"
   ]
  },
  {
   "cell_type": "markdown",
   "id": "81540e4e",
   "metadata": {},
   "source": [
    "# Testing the model on the test data"
   ]
  },
  {
   "cell_type": "code",
   "execution_count": 9,
   "id": "4402c420",
   "metadata": {},
   "outputs": [
    {
     "name": "stdout",
     "output_type": "stream",
     "text": [
      "Accuracy =  90.0 %\n",
      "Threshold (X) =  -4.433774774937715\n"
     ]
    },
    {
     "data": {
      "image/png": "[encoded data removed]",
      "text/plain": [
       "<Figure size 864x360 with 1 Axes>"
      ]
     },
     "metadata": {
      "needs_background": "light"
     },
     "output_type": "display_data"
    }
   ],
   "source": [
    "path = 'Data_Q4/emotion_classification/test/'\n",
    "model_testing(path, trained_u, trained_lda_multiplier, trained_threshold)\n",
    "\n",
    "# Best accuracy obtained is 90%. This value persists even for K = 19 (max possible K)."
   ]
  },
  {
   "cell_type": "markdown",
   "id": "e76964c4",
   "metadata": {},
   "source": [
    "## Hence, the minimum value of K for which we observe best accuracy and thus maximum separabiliy is *16*. Higher values of K aare giving the same accuracy score."
   ]
  },
  {
   "cell_type": "code",
   "execution_count": null,
   "id": "bf0eb629",
   "metadata": {},
   "outputs": [],
   "source": []
  }
 ],
 "metadata": {
  "kernelspec": {
   "display_name": "Python 3 (ipykernel)",
   "language": "python",
   "name": "python3"
  },
  "language_info": {
   "codemirror_mode": {
    "name": "ipython",
    "version": 3
   },
   "file_extension": ".py",
   "mimetype": "text/x-python",
   "name": "python",
   "nbconvert_exporter": "python",
   "pygments_lexer": "ipython3",
   "version": "3.8.8"
  }
 },
 "nbformat": 4,
 "nbformat_minor": 5
}
