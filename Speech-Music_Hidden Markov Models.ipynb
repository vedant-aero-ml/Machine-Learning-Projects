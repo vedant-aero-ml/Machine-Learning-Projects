{
 "cells": [
  {
   "cell_type": "code",
   "execution_count": 1,
   "id": "a5948050",
   "metadata": {},
   "outputs": [],
   "source": [
    "import matplotlib.pyplot as plt\n",
    "from scipy.fftpack import fft\n",
    "from scipy import linalg\n",
    "from scipy.linalg import eigh\n",
    "from sklearn.cluster import KMeans\n",
    "import matplotlib.pyplot as plt\n",
    "import numpy as np\n",
    "import pandas as pd\n",
    "import librosa\n",
    "import os"
   ]
  },
  {
   "cell_type": "code",
   "execution_count": 2,
   "id": "807aecf6",
   "metadata": {},
   "outputs": [],
   "source": [
    "def spectrogram(path):\n",
    "    data, sample_rate = librosa.load(path, sr = 16000) # Reading the file and decomposing into sample rate and amplitude vector\n",
    "    \n",
    "    # Defining Hamming window particulars\n",
    "    window = 0.025\n",
    "    shift = 0.01\n",
    "    \n",
    "    # Translating into number of samples from given Hamming window particulars\n",
    "    frame_length, frame_step = int(window * sample_rate), int(shift * sample_rate)\n",
    "    signal_length = len(data)\n",
    "\n",
    "    # Calculating number of frames. Converting to inn tas the values are floats and the calculated values need to be discrete integers.\n",
    "    num_frames = int((signal_length - frame_length) / frame_step)\n",
    "\n",
    "    # Creating an envelope of array that shifts with Hamming window \n",
    "    envelope_length = num_frames * num_frames + frame_length\n",
    "\n",
    "    # Storing data into a temporary array, to be used for appending\n",
    "    temp = np.zeros((envelope_length - signal_length))\n",
    "    envelope = np.append(data, temp) \n",
    "\n",
    "    # Using np.tile to create repeating arrays while using arange to set-up frame length and corresponding entries\n",
    "    storage = np.tile(np.arange(0, frame_length), (num_frames, 1)) + np.tile(np.arange(0, num_frames * frame_step, frame_step), (frame_length, 1)).T\n",
    "\n",
    "    # Storing the data into the frames\n",
    "    frames = envelope[storage]\n",
    "    \n",
    "    point_FFT = 64\n",
    "\n",
    "    fft_data = np.absolute(np.fft.fft(frames, point_FFT))  # Magnitude of the FFT\n",
    "    \n",
    "    fft_data = fft_data.T\n",
    "    \n",
    "    fft_data = fft_data[0:32,:] # Slicing into top 32 vectors \n",
    "    \n",
    "    spectrogram = fft_data.T - np.mean(fft_data.T, axis=0)\n",
    "\n",
    "    spectrogram = spectrogram.T\n",
    "    \n",
    "    spectrogram = np.abs(spectrogram)\n",
    "    \n",
    "    return np.log(spectrogram)"
   ]
  },
  {
   "cell_type": "code",
   "execution_count": 3,
   "id": "1da3c7f4",
   "metadata": {},
   "outputs": [],
   "source": [
    "# Storing file names\n",
    "\n",
    "names_speech = os.listdir('speech_music_classification/train/speech/')\n",
    "\n",
    "names_music = os.listdir('speech_music_classification/train/music/')\n",
    "\n",
    "\n",
    "# Creating the music data matrix\n",
    "music_data = []\n",
    "\n",
    "for name in names_music:\n",
    "    music_data.append(spectrogram('speech_music_classification/train/music/'+name))\n",
    "\n",
    "music_data = np.array(music_data)\n",
    "\n",
    "music_data = music_data.reshape(music_data.shape[1], music_data.shape[2]*music_data.shape[0])\n",
    "music_data = music_data.T\n",
    "\n",
    "\n",
    "# Creating the speech data matrix\n",
    "speech_data = []\n",
    "\n",
    "for name in names_speech:\n",
    "    speech_data.append(spectrogram('speech_music_classification/train/speech/'+name))\n",
    "\n",
    "speech_data = np.array(speech_data)\n",
    "\n",
    "speech_data = speech_data.reshape(speech_data.shape[1], speech_data.shape[2]*speech_data.shape[0])\n",
    "speech_data = speech_data.T\n"
   ]
  },
  {
   "cell_type": "code",
   "execution_count": 4,
   "id": "deca4953",
   "metadata": {},
   "outputs": [],
   "source": [
    "combined_data = np.concatenate((speech_data,music_data), axis=0)\n",
    "\n",
    "combined_data = combined_data[::3] # Subsampling"
   ]
  },
  {
   "cell_type": "code",
   "execution_count": 5,
   "id": "6889cd97",
   "metadata": {},
   "outputs": [],
   "source": [
    "#### INITIAL DATA ####\n",
    "\n",
    "pi = np.array([0.5,0.5,0.0])\n",
    "\n",
    "A = np.array([[0.6,0.4,0.0],[0.3,0.5,0.2],[0.0, 0.1,0.9]])\n",
    "\n",
    "B = np.array([[0.25,0.25,0.25,0.25,0.0,0.0,0.0,0.0], [0.125,0.125,0.125,0.125,0.125,0.125,0.125,0.125], [0.0,0.0,0.0,0.0,0.0,0.5,0.5,0.0]])"
   ]
  },
  {
   "cell_type": "markdown",
   "id": "7630ec72",
   "metadata": {},
   "source": [
    "### FORWARD ALGORITHM"
   ]
  },
  {
   "cell_type": "code",
   "execution_count": 6,
   "id": "6bab6c25",
   "metadata": {},
   "outputs": [],
   "source": [
    "def forward(seq, A, B, pi):\n",
    "    \n",
    "    scaling = []\n",
    "    \n",
    "    alpha = np.zeros((seq.shape[0], A.shape[0]))\n",
    "    alpha[0, :] = (pi * B[:, seq[0]])  \n",
    "    \n",
    "    p = alpha[0, :].sum()\n",
    "    alpha[0,:] = alpha[0, :]/p  # Scaling the first row\n",
    "    \n",
    "    scaling.append(1/p)\n",
    "    \n",
    "    for t in range(1, seq.shape[0]):\n",
    "        ss = 0\n",
    "        for j in range(A.shape[0]):\n",
    "            alpha[t, j] = (alpha[t - 1].dot(A[:, j]) * B[j, seq[t]])\n",
    "            ss = ss + alpha[t, j]\n",
    "        alpha[t,:] = alpha[t,:]/ss  # Scaling all the rows\n",
    "        scaling.append(1/ss)\n",
    "        \n",
    "    return alpha, np.array(scaling)"
   ]
  },
  {
   "cell_type": "markdown",
   "id": "83af58e5",
   "metadata": {},
   "source": [
    "### BACKWARD ALGORITHM"
   ]
  },
  {
   "cell_type": "code",
   "execution_count": 7,
   "id": "298f2ec8",
   "metadata": {},
   "outputs": [],
   "source": [
    "def backward(A,B,seq,sc):\n",
    "    N = A.shape[1]\n",
    "    T = seq.shape[0]\n",
    "    beta = np.zeros((seq.shape[0], A.shape[0]))\n",
    "    t = seq.shape[0]-1\n",
    "    for i in range(0,N):\n",
    "        beta[t][i] = sc[t]\n",
    "    t=seq.shape[0] - 2\n",
    "    \n",
    "    while t>=0:\n",
    "        for i in range(N):\n",
    "            for j in range(N):\n",
    "                beta[t][i] = beta[t][i] + (beta[t+1][j]*A[i][j]*B[j][seq[t+1]])\n",
    "        for i in range(0,3):\n",
    "            beta[t][i] = beta[t][i]*sc[t]\n",
    "        t = t - 1\n",
    "    return beta"
   ]
  },
  {
   "cell_type": "markdown",
   "id": "77feeef0",
   "metadata": {},
   "source": [
    "#### Applying the algorithms to select data"
   ]
  },
  {
   "cell_type": "code",
   "execution_count": 8,
   "id": "b00b32c7",
   "metadata": {},
   "outputs": [
    {
     "data": {
      "text/plain": [
       "array([[-4.6304791 , -3.50769566, -3.16625531, ..., -3.22377668,\n",
       "        -5.93379179, -2.97409889],\n",
       "       [-2.96607067, -2.02510263, -2.50175341, ..., -0.8348336 ,\n",
       "        -0.73664569, -5.64481517],\n",
       "       [-0.57829198, -1.59710395, -3.04364338, ..., -2.46450045,\n",
       "        -3.30360496, -6.08778634],\n",
       "       ...,\n",
       "       [-0.10810303, -2.58071858, -1.32590388, ..., -1.1331403 ,\n",
       "        -4.32345918, -3.74845492],\n",
       "       [-3.24922246, -3.05341746, -3.43950827, ..., -2.90243064,\n",
       "        -1.78290454, -4.20325657],\n",
       "       [-2.05030693, -3.50955257, -3.39243302, ..., -4.1013397 ,\n",
       "        -2.4658289 , -0.87758018]])"
      ]
     },
     "execution_count": 8,
     "metadata": {},
     "output_type": "execute_result"
    }
   ],
   "source": [
    "# Shuffling the rows of combined data matrix in order to avoid bias while training of K-Means\n",
    "\n",
    "np.take(combined_data,np.random.permutation(combined_data.shape[0]),axis=0,out=combined_data)"
   ]
  },
  {
   "cell_type": "code",
   "execution_count": 9,
   "id": "a6da17a1",
   "metadata": {},
   "outputs": [
    {
     "data": {
      "text/plain": [
       "KMeans()"
      ]
     },
     "execution_count": 9,
     "metadata": {},
     "output_type": "execute_result"
    }
   ],
   "source": [
    "kmeans_whole = KMeans(n_clusters=8)\n",
    "kmeans_whole.fit(combined_data)"
   ]
  },
  {
   "cell_type": "code",
   "execution_count": 10,
   "id": "551c5390",
   "metadata": {},
   "outputs": [
    {
     "data": {
      "text/plain": [
       "array([[0.66666667, 0.33333333, 0.        ],\n",
       "       [0.        , 0.61904762, 0.38095238],\n",
       "       [0.        , 0.15698925, 0.84301075],\n",
       "       ...,\n",
       "       [0.        , 1.        , 0.        ],\n",
       "       [0.        , 1.        , 0.        ],\n",
       "       [0.        , 1.        , 0.        ]])"
      ]
     },
     "execution_count": 10,
     "metadata": {},
     "output_type": "execute_result"
    }
   ],
   "source": [
    "ff = spectrogram('speech_music_classification/train/speech/acomic.wav').T\n",
    "\n",
    "ff = ff[::3]\n",
    "\n",
    "fff = kmeans_whole.predict(ff)\n",
    "\n",
    "# Taking acomic.wav speech file and applying the forward algorithm to it\n",
    "\n",
    "aa, sca = forward(fff,A,B,pi)\n",
    "\n",
    "aa"
   ]
  },
  {
   "cell_type": "code",
   "execution_count": 11,
   "id": "59e861bd",
   "metadata": {},
   "outputs": [
    {
     "name": "stdout",
     "output_type": "stream",
     "text": [
      "log likelihood of the file =  1965.297422762057\n"
     ]
    }
   ],
   "source": [
    "#### AS PER THE MATERIAL PROVIDED, THE LOG LIKELIHOOD OF THE OBSERVATIONS IS NOTHING BUT THE SUMMATION OF LOG OF SCALING FACTORS\n",
    "\n",
    "sca = np.array(sca)\n",
    "lsca = np.log(sca)\n",
    "print(\"log likelihood of the file = \",np.sum(lsca))"
   ]
  },
  {
   "cell_type": "code",
   "execution_count": 12,
   "id": "06eca732",
   "metadata": {},
   "outputs": [
    {
     "data": {
      "text/plain": [
       "array([[0.        , 1.        , 0.        ],\n",
       "       [0.        , 0.38461538, 0.61538462],\n",
       "       [0.        , 0.09141274, 0.90858726],\n",
       "       ...,\n",
       "       [0.        , 0.03100203, 0.96899797],\n",
       "       [0.        , 0.03100203, 0.96899797],\n",
       "       [0.        , 0.03100203, 0.96899797]])"
      ]
     },
     "execution_count": 12,
     "metadata": {},
     "output_type": "execute_result"
    }
   ],
   "source": [
    "# Taking ballad.wav music file and applying the forward algorithm to it\n",
    "\n",
    "tt = spectrogram('speech_music_classification/train/music/ballad.wav').T\n",
    "\n",
    "tt = tt[::3]\n",
    "ttt  = kmeans_whole.predict(tt)\n",
    "\n",
    "bb, scb = forward(ttt,A,B,pi)\n",
    "\n",
    "bb"
   ]
  },
  {
   "cell_type": "code",
   "execution_count": 13,
   "id": "4660bc17",
   "metadata": {},
   "outputs": [
    {
     "name": "stdout",
     "output_type": "stream",
     "text": [
      "log likelihood of the file =  1604.8716979792857\n"
     ]
    }
   ],
   "source": [
    "#### AS PER THE MATERIAL PROVIDED, THE LOG LIKELIHOOD OF THE OBSERVATIONS IS NOTHING BUT THE SUMMATION OF LOG OF SCALING FACTORS\n",
    "\n",
    "scb = np.array(scb)\n",
    "lscb = np.log(scb)\n",
    "print(\"log likelihood of the file = \",np.sum(lscb))"
   ]
  },
  {
   "cell_type": "markdown",
   "id": "c51a349c",
   "metadata": {},
   "source": [
    "#### We observe that the likelihoods of speech and music are different. In this particular example, the model is more likely to predict speech. But it will depend on nature of file too. Below is another example to prove the fact."
   ]
  },
  {
   "cell_type": "code",
   "execution_count": 14,
   "id": "e34b7bfa",
   "metadata": {},
   "outputs": [
    {
     "name": "stdout",
     "output_type": "stream",
     "text": [
      "log likelihood of the file =  1797.6548784544527\n"
     ]
    }
   ],
   "source": [
    "jj = spectrogram('speech_music_classification/train/speech/amal.wav').T\n",
    "\n",
    "jj = jj[::3]\n",
    "\n",
    "jjj= kmeans_whole.predict(jj)\n",
    "\n",
    "jn, scj = forward(jjj,A,B,pi)\n",
    "\n",
    "scj = np.array(scj)\n",
    "lscj = np.log(scj)\n",
    "print(\"log likelihood of the file = \",np.sum(lscj))"
   ]
  },
  {
   "cell_type": "code",
   "execution_count": 15,
   "id": "8b4b6fb5",
   "metadata": {},
   "outputs": [
    {
     "name": "stdout",
     "output_type": "stream",
     "text": [
      "log likelihood of the file =  2175.1348259893957\n"
     ]
    }
   ],
   "source": [
    "jj = spectrogram('speech_music_classification/train/music/beat.wav').T\n",
    "\n",
    "jj = jj[::3]\n",
    "\n",
    "jjj= kmeans_whole.predict(jj)\n",
    "\n",
    "jn, scj = forward(jjj,A,B,pi)\n",
    "\n",
    "scj = np.array(scj)\n",
    "lscj = np.log(scj)\n",
    "print(\"log likelihood of the file = \",np.sum(lscj))"
   ]
  },
  {
   "cell_type": "markdown",
   "id": "b5a858b4",
   "metadata": {},
   "source": [
    "#### Below is given the backward algorithm applied to the problem for the same files"
   ]
  },
  {
   "cell_type": "code",
   "execution_count": 16,
   "id": "10178157",
   "metadata": {},
   "outputs": [
    {
     "data": {
      "text/plain": [
       "array([[ 1.482618  , 13.034764  , 50.68736624],\n",
       "       [ 0.75421064,  5.5598175 , 20.96529656],\n",
       "       [ 0.35339282,  1.31986863,  4.03992242],\n",
       "       ...,\n",
       "       [46.86409736, 58.5801217 , 11.71602434],\n",
       "       [12.8       , 16.        ,  3.2       ],\n",
       "       [16.        , 16.        , 16.        ]])"
      ]
     },
     "execution_count": 16,
     "metadata": {},
     "output_type": "execute_result"
    }
   ],
   "source": [
    "# Taking acomic.wav speech file and applying the backward algorithm to it\n",
    "\n",
    "aaa =  backward(A,B,fff,sca)\n",
    "\n",
    "aaa"
   ]
  },
  {
   "cell_type": "code",
   "execution_count": 17,
   "id": "d44b3ba5",
   "metadata": {},
   "outputs": [
    {
     "data": {
      "text/plain": [
       "array([[ 1.81989394, 16.        , 62.21807007],\n",
       "       [ 0.30859452,  2.27486743,  8.57820786],\n",
       "       [ 0.26853357,  1.0029322 ,  3.06982694],\n",
       "       ...,\n",
       "       [ 0.08728818,  0.60598138,  2.25774225],\n",
       "       [ 0.24343968,  0.79117896,  2.25181705],\n",
       "       [ 2.2065343 ,  2.2065343 ,  2.2065343 ]])"
      ]
     },
     "execution_count": 17,
     "metadata": {},
     "output_type": "execute_result"
    }
   ],
   "source": [
    "# Taking ballad.wav music file and applying the backward algorithm to it\n",
    "\n",
    "bbb = backward(A,B,ttt,scb)\n",
    "\n",
    "bbb"
   ]
  },
  {
   "cell_type": "code",
   "execution_count": null,
   "id": "5edc35ae",
   "metadata": {},
   "outputs": [],
   "source": []
  },
  {
   "cell_type": "markdown",
   "id": "72ee3b02",
   "metadata": {},
   "source": [
    "### VITERBI ALGORITHM"
   ]
  },
  {
   "cell_type": "code",
   "execution_count": 18,
   "id": "f06c0299",
   "metadata": {},
   "outputs": [],
   "source": [
    "def viterbi(seq, A, B, pi):\n",
    "    N = B.shape[0]\n",
    "    x_seq = np.zeros([N, 0])\n",
    "    V = B[:, seq[0]] * pi\n",
    "\n",
    "    # forward to compute the optimal value function V\n",
    "    for y_ in seq[1:]:\n",
    "        _V = np.tile(B[:, y_], reps=[N, 1]).T * A.T * np.tile(V, reps=[N, 1])\n",
    "        x_ind = np.argmax(_V, axis=1)\n",
    "        x_seq = np.hstack([x_seq, np.c_[x_ind]])\n",
    "        V = _V[np.arange(N), x_ind]\n",
    "    x_T = np.argmax(V)\n",
    "\n",
    "    # Now doing the backward run to get optimal soluiton\n",
    "    x_seq_opt, i = np.zeros(x_seq.shape[1]+1), x_seq.shape[1]-1\n",
    "    prev_ind = x_T\n",
    "    while i >= 0:\n",
    "        x_seq_opt[i] = prev_ind\n",
    "        i -= 1\n",
    "        prev_ind = x_seq[int(prev_ind), i]\n",
    "    return x_seq_opt"
   ]
  },
  {
   "cell_type": "code",
   "execution_count": 19,
   "id": "4cf53f11",
   "metadata": {},
   "outputs": [
    {
     "data": {
      "text/plain": [
       "array([1., 2., 2., 2., 2., 1., 2., 2., 2., 1., 1., 1., 1., 2., 2., 1., 1.,\n",
       "       1., 2., 2., 2., 2., 1., 1., 1., 1., 1., 1., 1., 1., 2., 2., 1., 2.,\n",
       "       2., 2., 1., 1., 1., 1., 2., 2., 2., 2., 1., 1., 1., 1., 1., 1., 1.,\n",
       "       1., 2., 2., 1., 2., 2., 2., 2., 2., 2., 1., 2., 2., 2., 1., 2., 2.,\n",
       "       2., 2., 1., 2., 2., 2., 2., 2., 2., 1., 2., 2., 2., 2., 1., 1., 1.,\n",
       "       2., 2., 1., 1., 1., 1., 1., 1., 1., 2., 2., 1., 1., 1., 1., 2., 2.,\n",
       "       1., 1., 2., 2., 1., 1., 1., 2., 2., 2., 1., 1., 1., 1., 1., 1., 2.,\n",
       "       2., 2., 1., 1., 1., 2., 2., 1., 1., 1., 1., 1., 1., 1., 1., 1., 1.,\n",
       "       1., 1., 1., 1., 1., 2., 2., 2., 2., 2., 2., 1., 2., 2., 2., 2., 2.,\n",
       "       2., 1., 1., 1., 1., 1., 1., 1., 2., 2., 1., 2., 2., 1., 1., 1., 2.,\n",
       "       2., 2., 2., 1., 2., 2., 2., 2., 2., 2., 2., 2., 2., 2., 1., 2., 2.,\n",
       "       1., 1., 1., 2., 2., 1., 1., 1., 2., 2., 2., 2., 2., 2., 2., 2., 2.,\n",
       "       1., 2., 2., 2., 1., 1., 1., 1., 1., 1., 2., 2., 2., 2., 2., 2., 2.,\n",
       "       2., 1., 2., 2., 2., 1., 2., 2., 2., 1., 1., 1., 1., 1., 2., 2., 1.,\n",
       "       1., 1., 1., 1., 1., 1., 2., 2., 1., 1., 1., 1., 1., 2., 2., 2., 2.,\n",
       "       2., 2., 2., 2., 2., 2., 2., 2., 2., 1., 1., 1., 1., 1., 1., 2., 2.,\n",
       "       1., 1., 1., 1., 1., 1., 1., 1., 1., 1., 2., 2., 1., 1., 1., 1., 2.,\n",
       "       2., 1., 2., 2., 1., 1., 1., 2., 2., 2., 1., 1., 1., 1., 1., 1., 1.,\n",
       "       1., 1., 1., 1., 1., 1., 1., 2., 2., 2., 1., 1., 1., 1., 2., 2., 2.,\n",
       "       2., 2., 1., 1., 2., 2., 1., 0., 0., 0., 0., 0., 0., 0., 0., 0., 0.,\n",
       "       0., 0., 0., 0., 0., 0., 0., 0., 0., 0., 0., 0., 0., 0., 0., 0., 0.,\n",
       "       0., 0., 0., 0., 0., 0., 0., 0., 0., 0., 0., 0., 0., 0., 0., 0., 0.,\n",
       "       0., 0., 0., 0., 0., 0., 0., 0., 0., 0., 0., 0., 0., 0., 0., 0., 0.,\n",
       "       0., 0., 0., 0., 0., 0., 0., 0., 0., 0., 0., 0., 0., 0., 0., 0., 0.,\n",
       "       0., 0., 0., 0., 0., 0., 0., 0., 0., 0., 0., 0., 0., 0., 0., 0., 0.,\n",
       "       0., 0., 0., 0., 0., 0., 0., 0., 0., 0., 0., 0., 0., 0., 0., 0., 0.,\n",
       "       0., 0., 0., 0., 0., 0., 0., 0., 0., 0., 0., 0., 0., 0., 0., 0., 0.,\n",
       "       0., 0., 0., 0., 0., 0., 0., 0., 0., 0., 0., 0., 0., 0., 0., 0., 0.,\n",
       "       0., 0., 0., 0., 0., 0., 0., 0., 0., 0., 0., 0., 0., 0., 0., 0., 0.,\n",
       "       0., 0., 0., 0., 0., 0., 0., 0., 0., 0., 0., 0., 0., 0., 0., 0., 0.,\n",
       "       0., 0., 0., 0., 0., 0., 0., 0., 0., 0., 0., 0., 0., 0., 0., 0., 0.,\n",
       "       0., 0., 0., 0., 0., 0., 0., 0., 0., 0., 0., 0., 0., 0., 0., 0., 0.,\n",
       "       0., 0., 0., 0., 0., 0., 0., 0., 0., 0., 0., 0., 0., 0., 0., 0., 0.,\n",
       "       0., 0., 0., 0., 0., 0., 0., 0., 0., 0., 0., 0., 0., 0., 0., 0., 0.,\n",
       "       0., 0., 0., 0., 0., 0., 0., 0., 0., 0., 0., 0., 0., 0., 0., 0., 0.,\n",
       "       0., 0., 0., 0., 0., 0., 0., 0., 0., 0., 0., 0., 0., 0., 0., 0., 0.,\n",
       "       0., 0., 0., 0., 0., 0., 0., 0., 0., 0., 0., 0., 0., 0., 0., 0., 0.,\n",
       "       0., 0., 0., 0., 0., 0., 0., 0., 0., 0., 0., 0., 0., 0., 0., 0., 0.,\n",
       "       0., 0., 0., 0., 0., 0., 0., 0., 0., 0., 0., 0., 0., 0., 0., 0., 0.,\n",
       "       0., 0., 0., 0., 0., 0., 0., 0., 0., 0., 0., 0., 0., 0., 0., 0., 0.,\n",
       "       0., 0., 0., 0., 0., 0., 0., 0., 0., 0., 0., 0., 0., 0., 0., 0., 0.,\n",
       "       0., 0., 0., 0., 0., 0., 0., 0., 0., 0., 0., 0., 0., 0., 0., 0., 0.,\n",
       "       0., 0., 0., 0., 0., 0., 0., 0., 0., 0., 0., 0., 0., 0., 0., 0., 0.,\n",
       "       0., 0., 0., 0., 0., 0., 0., 0., 0., 0., 0., 0., 0., 0., 0., 0., 0.,\n",
       "       0., 0., 0., 0., 0., 0., 0., 0., 0., 0., 0., 0., 0., 0., 0., 0., 0.,\n",
       "       0., 0., 0., 0., 0., 0., 0., 0., 0., 0., 0., 0., 0., 0., 0., 0., 0.,\n",
       "       0., 0., 0., 0., 0., 0., 0., 0., 0., 0., 0., 0., 0., 0., 0., 0., 0.,\n",
       "       0., 0., 0., 0., 0., 0., 0., 0., 0., 0., 0., 0., 0., 0., 0., 0., 0.,\n",
       "       0., 0., 0., 0., 0., 0., 0., 0., 0., 0., 0., 0., 0., 0., 0., 0., 0.,\n",
       "       0., 0., 0., 0., 0., 0., 0., 0., 0., 0., 0., 0., 0., 0., 0., 0., 0.,\n",
       "       0., 0., 0., 0., 0., 0., 0., 0., 0., 0., 0., 0., 0., 0., 0., 0., 0.,\n",
       "       0., 0., 0., 0., 0., 0., 0., 0., 0., 0., 0., 0., 0., 0., 0., 0., 0.,\n",
       "       0., 0., 0., 0., 0., 0., 0., 0., 0., 0., 0., 0., 0., 0., 0., 0., 0.,\n",
       "       0., 0., 0., 0., 0., 0., 0., 0., 0., 0., 0., 0., 0., 0., 0., 0., 0.,\n",
       "       0., 0., 0., 0., 0., 0., 0., 0., 0., 0., 0., 0., 0., 0., 0., 0., 0.,\n",
       "       0., 0., 0., 0., 0., 0., 0., 0., 0., 0., 0., 0., 0., 0., 0., 0., 0.,\n",
       "       0., 0., 0., 0., 0., 0., 0., 0., 0., 0., 0., 0., 0., 0., 0., 0., 0.,\n",
       "       0., 0., 0., 0., 0., 0., 0., 0., 0., 0., 0., 0., 0., 0., 0., 0., 0.,\n",
       "       0., 0., 0., 0., 0., 0., 0., 0., 0., 0., 0., 0., 0.])"
      ]
     },
     "execution_count": 19,
     "metadata": {},
     "output_type": "execute_result"
    }
   ],
   "source": [
    "viterbi(fff,A,B,pi)\n",
    "# Optimum state sequence given below"
   ]
  },
  {
   "cell_type": "code",
   "execution_count": 20,
   "id": "53121b5b",
   "metadata": {},
   "outputs": [
    {
     "data": {
      "text/plain": [
       "array([1., 2., 2., 2., 2., 1., 2., 2., 2., 2., 2., 2., 2., 2., 2., 2., 1.,\n",
       "       2., 2., 2., 2., 2., 2., 2., 2., 2., 2., 2., 2., 2., 2., 2., 2., 2.,\n",
       "       2., 2., 2., 2., 2., 2., 2., 2., 2., 1., 2., 2., 2., 1., 2., 2., 2.,\n",
       "       1., 2., 2., 2., 2., 2., 2., 2., 1., 2., 2., 1., 2., 2., 1., 1., 1.,\n",
       "       1., 1., 1., 1., 2., 2., 2., 2., 2., 2., 1., 1., 2., 2., 2., 2., 1.,\n",
       "       1., 2., 2., 2., 1., 2., 2., 2., 2., 2., 2., 1., 1., 2., 2., 2., 2.,\n",
       "       2., 1., 2., 2., 1., 1., 2., 2., 2., 1., 1., 2., 2., 2., 1., 2., 2.,\n",
       "       2., 2., 1., 1., 1., 1., 1., 2., 2., 2., 1., 2., 2., 1., 1., 1., 1.,\n",
       "       1., 2., 2., 2., 2., 2., 2., 2., 2., 2., 2., 2., 2., 2., 2., 1., 2.,\n",
       "       2., 2., 1., 1., 1., 2., 2., 2., 1., 1., 2., 2., 2., 2., 2., 2., 1.,\n",
       "       1., 2., 2., 2., 2., 2., 2., 2., 2., 2., 2., 2., 2., 1., 2., 2., 2.,\n",
       "       2., 2., 2., 2., 2., 1., 2., 2., 2., 2., 2., 2., 2., 2., 2., 2., 2.,\n",
       "       2., 2., 2., 2., 1., 1., 1., 1., 1., 2., 2., 2., 2., 2., 2., 2., 2.,\n",
       "       2., 1., 1., 2., 2., 2., 2., 2., 2., 2., 2., 2., 2., 2., 2., 2., 2.,\n",
       "       2., 2., 2., 2., 2., 2., 2., 2., 2., 2., 2., 2., 2., 2., 2., 2., 2.,\n",
       "       2., 2., 2., 2., 2., 2., 2., 2., 2., 2., 2., 2., 1., 2., 2., 2., 2.,\n",
       "       2., 2., 2., 1., 2., 2., 2., 2., 2., 2., 2., 2., 1., 1., 2., 2., 1.,\n",
       "       2., 2., 2., 2., 2., 2., 2., 2., 2., 2., 2., 2., 2., 2., 2., 2., 2.,\n",
       "       2., 2., 2., 2., 2., 2., 2., 2., 2., 2., 1., 2., 2., 2., 2., 2., 2.,\n",
       "       2., 2., 2., 2., 2., 2., 2., 2., 2., 1., 1., 1., 1., 1., 2., 2., 1.,\n",
       "       1., 1., 1., 1., 1., 1., 2., 2., 2., 2., 2., 2., 1., 2., 2., 2., 2.,\n",
       "       1., 2., 2., 2., 2., 2., 2., 2., 2., 2., 1., 1., 2., 2., 1., 1., 2.,\n",
       "       2., 2., 2., 2., 1., 1., 1., 1., 1., 2., 2., 2., 2., 2., 1., 1., 2.,\n",
       "       2., 1., 1., 1., 2., 2., 2., 2., 1., 1., 1., 1., 1., 2., 2., 2., 1.,\n",
       "       2., 2., 2., 2., 2., 2., 2., 2., 2., 2., 2., 2., 2., 2., 1., 2., 2.,\n",
       "       2., 2., 1., 1., 1., 1., 0., 0., 0., 0., 0., 0., 0., 0., 0., 0., 0.,\n",
       "       0., 0., 0., 0., 0., 0., 0., 0., 0., 0., 0., 0., 0., 0., 0., 0., 0.,\n",
       "       0., 0., 0., 0., 0., 0., 0., 0., 0., 0., 0., 0., 0., 0., 0., 0., 0.,\n",
       "       0., 0., 0., 0., 0., 0., 0., 0., 0., 0., 0., 0., 0., 0., 0., 0., 0.,\n",
       "       0., 0., 0., 0., 0., 0., 0., 0., 0., 0., 0., 0., 0., 0., 0., 0., 0.,\n",
       "       0., 0., 0., 0., 0., 0., 0., 0., 0., 0., 0., 0., 0., 0., 0., 0., 0.,\n",
       "       0., 0., 0., 0., 0., 0., 0., 0., 0., 0., 0., 0., 0., 0., 0., 0., 0.,\n",
       "       0., 0., 0., 0., 0., 0., 0., 0., 0., 0., 0., 0., 0., 0., 0., 0., 0.,\n",
       "       0., 0., 0., 0., 0., 0., 0., 0., 0., 0., 0., 0., 0., 0., 0., 0., 0.,\n",
       "       0., 0., 0., 0., 0., 0., 0., 0., 0., 0., 0., 0., 0., 0., 0., 0., 0.,\n",
       "       0., 0., 0., 0., 0., 0., 0., 0., 0., 0., 0., 0., 0., 0., 0., 0., 0.,\n",
       "       0., 0., 0., 0., 0., 0., 0., 0., 0., 0., 0., 0., 0., 0., 0., 0., 0.,\n",
       "       0., 0., 0., 0., 0., 0., 0., 0., 0., 0., 0., 0., 0., 0., 0., 0., 0.,\n",
       "       0., 0., 0., 0., 0., 0., 0., 0., 0., 0., 0., 0., 0., 0., 0., 0., 0.,\n",
       "       0., 0., 0., 0., 0., 0., 0., 0., 0., 0., 0., 0., 0., 0., 0., 0., 0.,\n",
       "       0., 0., 0., 0., 0., 0., 0., 0., 0., 0., 0., 0., 0., 0., 0., 0., 0.,\n",
       "       0., 0., 0., 0., 0., 0., 0., 0., 0., 0., 0., 0., 0., 0., 0., 0., 0.,\n",
       "       0., 0., 0., 0., 0., 0., 0., 0., 0., 0., 0., 0., 0., 0., 0., 0., 0.,\n",
       "       0., 0., 0., 0., 0., 0., 0., 0., 0., 0., 0., 0., 0., 0., 0., 0., 0.,\n",
       "       0., 0., 0., 0., 0., 0., 0., 0., 0., 0., 0., 0., 0., 0., 0., 0., 0.,\n",
       "       0., 0., 0., 0., 0., 0., 0., 0., 0., 0., 0., 0., 0., 0., 0., 0., 0.,\n",
       "       0., 0., 0., 0., 0., 0., 0., 0., 0., 0., 0., 0., 0., 0., 0., 0., 0.,\n",
       "       0., 0., 0., 0., 0., 0., 0., 0., 0., 0., 0., 0., 0., 0., 0., 0., 0.,\n",
       "       0., 0., 0., 0., 0., 0., 0., 0., 0., 0., 0., 0., 0., 0., 0., 0., 0.,\n",
       "       0., 0., 0., 0., 0., 0., 0., 0., 0., 0., 0., 0., 0., 0., 0., 0., 0.,\n",
       "       0., 0., 0., 0., 0., 0., 0., 0., 0., 0., 0., 0., 0., 0., 0., 0., 0.,\n",
       "       0., 0., 0., 0., 0., 0., 0., 0., 0., 0., 0., 0., 0., 0., 0., 0., 0.,\n",
       "       0., 0., 0., 0., 0., 0., 0., 0., 0., 0., 0., 0., 0., 0., 0., 0., 0.,\n",
       "       0., 0., 0., 0., 0., 0., 0., 0., 0., 0., 0., 0., 0., 0., 0., 0., 0.,\n",
       "       0., 0., 0., 0., 0., 0., 0., 0., 0., 0., 0., 0., 0., 0., 0., 0., 0.,\n",
       "       0., 0., 0., 0., 0., 0., 0., 0., 0., 0., 0., 0., 0., 0., 0., 0., 0.,\n",
       "       0., 0., 0., 0., 0., 0., 0., 0., 0., 0., 0., 0., 0., 0., 0., 0., 0.,\n",
       "       0., 0., 0., 0., 0., 0., 0., 0., 0., 0., 0., 0., 0., 0., 0., 0., 0.,\n",
       "       0., 0., 0., 0., 0., 0., 0., 0., 0., 0., 0., 0., 0.])"
      ]
     },
     "execution_count": 20,
     "metadata": {},
     "output_type": "execute_result"
    }
   ],
   "source": [
    "viterbi(ttt,A,B,pi)\n",
    "# Optimum state sequence given below"
   ]
  },
  {
   "cell_type": "markdown",
   "id": "1515a1ab",
   "metadata": {},
   "source": [
    "## BAUM-WELCH ALGORITHM"
   ]
  },
  {
   "cell_type": "code",
   "execution_count": 21,
   "id": "c4ee2a11",
   "metadata": {},
   "outputs": [],
   "source": [
    "def baum_welch(V, a, b, initial_distribution, n_iter=20):\n",
    "    M = a.shape[0]\n",
    "    T = len(V)\n",
    "    log_lklhd = []\n",
    "    \n",
    "    for n in range(n_iter):\n",
    "        alpha,sc = forward(V, a, b, initial_distribution)\n",
    "        \n",
    "        alpha[alpha==0]=np.nextafter(0,np.inf)  # Replacing all 0s with smallest possible integer as it was giving NaNs\n",
    "        \n",
    "        beta = backward(a, b, V,sc)\n",
    "        \n",
    "        for i in range(len(beta)):\n",
    "            beta[i] = beta[i]*sc[i]\n",
    " \n",
    "        beta[beta==0]=np.nextafter(0,np.inf)  # Replacing all 0s with smallest possible integer as it was giving NaNs\n",
    "    \n",
    "        xi = np.zeros((M, M, T - 1))\n",
    "        for t in range(T - 1):\n",
    "            denominator = np.dot(np.dot(alpha[t, :].T, a) * b[:, V[t + 1]].T, beta[t + 1, :])\n",
    "            for i in range(M):\n",
    "                numerator = alpha[t, i] * a[i, :] * b[:, V[t + 1]].T * beta[t + 1, :].T\n",
    "                xi[i, :, t] = numerator / denominator\n",
    " \n",
    "        gamma = np.sum(xi, axis=1)\n",
    "        a = np.sum(xi, 2) / np.sum(gamma, axis=1).reshape((-1, 1))\n",
    " \n",
    "        gamma = np.hstack((gamma, np.sum(xi[:, :, T - 2], axis=0).reshape((-1, 1))))  # Adding the last element\n",
    " \n",
    "        K = b.shape[1]\n",
    "        denominator = np.sum(gamma, axis=1)\n",
    "        for l in range(K):\n",
    "            b[:, l] = np.sum(gamma[:, V == l], axis=1)\n",
    " \n",
    "        b = np.divide(b, denominator.reshape((-1, 1)))\n",
    "        \n",
    "        sc = np.array(sc)\n",
    "        lsc = np.log(sc)\n",
    "        log_lklhd.append(np.sum(lsc))\n",
    " \n",
    "    return (a, b, gamma[:,0], log_lklhd)"
   ]
  },
  {
   "cell_type": "markdown",
   "id": "ad4f4bad",
   "metadata": {},
   "source": [
    "### Running B-W with music class"
   ]
  },
  {
   "cell_type": "code",
   "execution_count": 22,
   "id": "f16409b2",
   "metadata": {},
   "outputs": [],
   "source": [
    "kmeansbw_m = KMeans(n_clusters=8)\n",
    "\n",
    "music_seq = kmeansbw_m.fit_predict(music_data)"
   ]
  },
  {
   "cell_type": "code",
   "execution_count": 23,
   "id": "006d9101",
   "metadata": {},
   "outputs": [],
   "source": [
    "Am, Bm, pim, LLm = baum_welch(music_seq,A,B,pi)"
   ]
  },
  {
   "cell_type": "markdown",
   "id": "2a8ce702",
   "metadata": {},
   "source": [
    "### Running B-W with speech class"
   ]
  },
  {
   "cell_type": "code",
   "execution_count": 25,
   "id": "3d799577",
   "metadata": {},
   "outputs": [],
   "source": [
    "kmeansbw_s = KMeans(n_clusters=8)\n",
    "\n",
    "speech_seq = kmeansbw_s.fit_predict(speech_data)"
   ]
  },
  {
   "cell_type": "code",
   "execution_count": 26,
   "id": "ff652abd",
   "metadata": {},
   "outputs": [],
   "source": [
    "As, Bs, pis, LLs = baum_welch(speech_seq,A,B,pi)"
   ]
  },
  {
   "cell_type": "code",
   "execution_count": 27,
   "id": "9cd8561e",
   "metadata": {},
   "outputs": [],
   "source": [
    "LLs, LLm = np.array(LLs), np.array(LLm)"
   ]
  },
  {
   "cell_type": "code",
   "execution_count": 28,
   "id": "07488414",
   "metadata": {},
   "outputs": [
    {
     "data": {
      "text/plain": [
       "[<matplotlib.lines.Line2D at 0x2d12e74ed90>]"
      ]
     },
     "execution_count": 28,
     "metadata": {},
     "output_type": "execute_result"
    },
    {
     "data": {
      "image/png": "[encoded data removed]",
      "text/plain": [
       "<Figure size 432x288 with 1 Axes>"
      ]
     },
     "metadata": {
      "needs_background": "light"
     },
     "output_type": "display_data"
    }
   ],
   "source": [
    "plt.title(\"Convergence Plot\")\n",
    "plt.xlabel(\"Iterations\")\n",
    "plt.ylabel(\"Negative Log Likelihood\")\n",
    "plt.plot(LLm*(-1))"
   ]
  },
  {
   "cell_type": "code",
   "execution_count": 29,
   "id": "92b02b2c",
   "metadata": {},
   "outputs": [
    {
     "data": {
      "text/plain": [
       "[<matplotlib.lines.Line2D at 0x2d14a644a60>]"
      ]
     },
     "execution_count": 29,
     "metadata": {},
     "output_type": "execute_result"
    },
    {
     "data": {
      "image/png": "[encoded data removed]",
      "text/plain": [
       "<Figure size 432x288 with 1 Axes>"
      ]
     },
     "metadata": {
      "needs_background": "light"
     },
     "output_type": "display_data"
    }
   ],
   "source": [
    "plt.title(\"Convergence Plot\")\n",
    "plt.xlabel(\"Iterations\")\n",
    "plt.ylabel(\"Negative Log Likelihood\")\n",
    "plt.plot(LLs*(-1))"
   ]
  },
  {
   "cell_type": "markdown",
   "id": "7dae9c54",
   "metadata": {},
   "source": [
    "## Negative likelihood is increasing in both as expected, meaning the model is converging"
   ]
  },
  {
   "cell_type": "markdown",
   "id": "7f7be2a0",
   "metadata": {},
   "source": [
    "## TESTING"
   ]
  },
  {
   "cell_type": "code",
   "execution_count": 30,
   "id": "8785cd4d",
   "metadata": {},
   "outputs": [],
   "source": [
    "names_test = os.listdir('speech_music_classification/test/')\n",
    "\n",
    "test_data = []\n",
    "\n",
    "for name in names_test:\n",
    "    test_data.append(spectrogram('speech_music_classification/test/'+name))\n",
    "\n",
    "test_data = np.array(test_data)\n",
    "\n",
    "test_data = test_data.reshape(test_data.shape[0], test_data.shape[2], test_data.shape[1])"
   ]
  },
  {
   "cell_type": "code",
   "execution_count": 31,
   "id": "f75db6ed",
   "metadata": {},
   "outputs": [],
   "source": [
    "LLM = []\n",
    "LLS = []\n",
    "\n",
    "for data in test_data:\n",
    "    d = data[::3]\n",
    "    seq = kmeans_whole.predict(d)\n",
    "    tfm, scm = forward(seq,Am,Bm,pim)\n",
    "    tfs, scs = forward(seq,As,Bs,pis)\n",
    "    lm = np.log(scm)\n",
    "    ls = np.log(scs)\n",
    "    LLM.append(np.sum(lm))\n",
    "    LLS.append(np.sum(ls))"
   ]
  },
  {
   "cell_type": "code",
   "execution_count": 33,
   "id": "0ca03549",
   "metadata": {},
   "outputs": [],
   "source": [
    "assignment = []\n",
    "\n",
    "for i in range(len(LLM)):\n",
    "    if(LLM[i]>LLS[i]):\n",
    "        assignment.append(1)\n",
    "    elif(LLM[i]<LLS[i]):\n",
    "        assignment.append(0)\n",
    "        \n",
    "assignment = np.array(assignment)"
   ]
  },
  {
   "cell_type": "code",
   "execution_count": 34,
   "id": "d3228b07",
   "metadata": {},
   "outputs": [],
   "source": [
    "music_count = np.ones(24) # Music: 1\n",
    "speech_count = np.zeros(24) # Speech: 0\n",
    "\n",
    "real = np.concatenate((music_count,speech_count), axis=0)  # Real assignment from the test folder"
   ]
  },
  {
   "cell_type": "code",
   "execution_count": 1,
   "id": "32ebb2be",
   "metadata": {},
   "outputs": [],
   "source": [
    "# ## FINDING ACCURACY\n",
    "# print(\"ACCURACY = \", (np.sum(real==assignment)/(len(real))*100), \"%\")"
   ]
  }
 ],
 "metadata": {
  "kernelspec": {
   "display_name": "Python 3 (ipykernel)",
   "language": "python",
   "name": "python3"
  },
  "language_info": {
   "codemirror_mode": {
    "name": "ipython",
    "version": 3
   },
   "file_extension": ".py",
   "mimetype": "text/x-python",
   "name": "python",
   "nbconvert_exporter": "python",
   "pygments_lexer": "ipython3",
   "version": "3.8.8"
  }
 },
 "nbformat": 4,
 "nbformat_minor": 5
}
