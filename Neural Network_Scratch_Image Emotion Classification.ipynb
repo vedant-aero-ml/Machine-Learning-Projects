{
 "cells": [
  {
   "cell_type": "code",
   "execution_count": 1,
   "id": "96f3a325",
   "metadata": {},
   "outputs": [],
   "source": [
    "from sklearn.preprocessing import StandardScaler\n",
    "from sklearn.decomposition import PCA\n",
    "import matplotlib.pyplot as plt\n",
    "from PIL import Image\n",
    "import pandas as pd\n",
    "import numpy as np\n",
    "import glob\n",
    "import os"
   ]
  },
  {
   "cell_type": "code",
   "execution_count": 2,
   "id": "b2d2cdc3",
   "metadata": {},
   "outputs": [],
   "source": [
    "def data_and_labels(path):\n",
    "    \n",
    "    image_list = []\n",
    "    for filename in glob.glob(path + '*.gif'):\n",
    "        im=Image.open(filename)\n",
    "        image_list.append(im)\n",
    "    \n",
    "    data = [0]*len(image_list)\n",
    "    for i,image in enumerate(image_list):\n",
    "        data[i] = np.array(image)\n",
    "    \n",
    "    data = np.array(data) # Contains the image data as numpy array\n",
    "    N, D = data.shape[0], data.shape[1]\n",
    "    data = data.reshape(N,D*D)\n",
    "    names = os.listdir(path)\n",
    "    labels = []\n",
    "    \n",
    "    #### 1: Happy\n",
    "    #### 0: Sad\n",
    "    \n",
    "    for name in names:\n",
    "        if 'happy' in name:\n",
    "            labels.append(1) \n",
    "        elif 'sad' in name:\n",
    "            labels.append(0)\n",
    "        \n",
    "    labels = np.array(labels) # Contains the class labels as numpy array\n",
    "        \n",
    "    return data, labels"
   ]
  },
  {
   "cell_type": "code",
   "execution_count": 3,
   "id": "0ad1f689",
   "metadata": {},
   "outputs": [],
   "source": [
    "path = 'emotion_classification/train/'\n",
    "train_data, train_labels = data_and_labels(path)\n",
    "\n",
    "path = 'emotion_classification/test/'    \n",
    "test_data, test_labels = data_and_labels(path)"
   ]
  },
  {
   "cell_type": "code",
   "execution_count": 4,
   "id": "a2750825",
   "metadata": {},
   "outputs": [],
   "source": [
    "# Data prep\n",
    "\n",
    "scaling = StandardScaler()\n",
    "scaling.fit(train_data)\n",
    "X_scaled = scaling.transform(train_data)  # Normalizing data\n",
    "\n",
    "principal = PCA(n_components = 12)  \n",
    "principal.fit(X_scaled)\n",
    "X = principal.transform(X_scaled)  # Applying PCA\n",
    "\n",
    "# Applying learnt transformations on test data\n",
    "test_data = scaling.transform(test_data)\n",
    "test_data = principal.transform(test_data)"
   ]
  },
  {
   "cell_type": "markdown",
   "id": "844a04f0",
   "metadata": {},
   "source": [
    "### Helper Functions"
   ]
  },
  {
   "cell_type": "code",
   "execution_count": 5,
   "id": "25ac1e80",
   "metadata": {},
   "outputs": [],
   "source": [
    "def softmax(vector):\n",
    "    ee = np.exp(vector)\n",
    "    return ee / ee.sum()\n",
    "\n",
    "def relu(x): # Vectorized\n",
    "    z = x.shape[0]\n",
    "    ans = np.zeros(z)\n",
    "    for i in range(z):\n",
    "        ans[i] = np.maximum(x[i], 0)\n",
    "    return ans\n",
    "\n",
    "# Entropy function with softmax as hypothesis\n",
    "def loss(y,y_ohe):\n",
    "    return -np.mean(y_ohe*np.log(y))"
   ]
  },
  {
   "cell_type": "markdown",
   "id": "6fed633f",
   "metadata": {},
   "source": [
    "### Internal Helper Functions"
   ]
  },
  {
   "cell_type": "code",
   "execution_count": 6,
   "id": "ffa65d9b",
   "metadata": {},
   "outputs": [],
   "source": [
    "np.random.seed(1) # To give out same set of randomized outputs in each run\n",
    "\n",
    "def initialize(archi):  # Random for W, zero for b\n",
    "    w1 = np.random.randn(archi[0],archi[1])*0.1  # 0.1 had to be multiplied to the weights as the original ones gave large bias\n",
    "    b1 = np.zeros(archi[1])\n",
    "    w2 = np.random.randn(archi[1],archi[2])*0.1\n",
    "    b2 = np.zeros(archi[2])\n",
    "    return w1,b1,w2,b2\n",
    "\n",
    "# One Hot Encoding\n",
    "def binary_encoder(labs):\n",
    "    y_ohe = []\n",
    "    for lab in labs:\n",
    "        if (lab==0):\n",
    "            y_ohe.append([1,0])\n",
    "        elif(lab == 1):\n",
    "            y_ohe.append([0,1])\n",
    "\n",
    "    return np.array(y_ohe)"
   ]
  },
  {
   "cell_type": "markdown",
   "id": "473231d8",
   "metadata": {},
   "source": [
    "### Neural Network Operations"
   ]
  },
  {
   "cell_type": "code",
   "execution_count": 7,
   "id": "c9c64def",
   "metadata": {},
   "outputs": [],
   "source": [
    "def forward(x,w1,b1,w2,b2):  # Forward propagation\n",
    "    a1 = np.dot(x,w1) + b1\n",
    "    y1 = relu(a1)\n",
    "    a2 = np.dot(y1,w2) +  b2\n",
    "    y2 = softmax(a2)\n",
    "    return y2,y1,a1\n",
    "    \n",
    "\n",
    "def update_all(a1,y1,y2,y_ohe,x,w2,b2,w1,b1,alpha):  # Backpropagation and updating combined in one function\n",
    "    del2 = y2-y_ohe\n",
    "    dw2 = y1.reshape(model[1],1)@del2.reshape(1,2)\n",
    "    db2 = np.sum(del2)\n",
    "  \n",
    "\n",
    "    # Update setting for w1 and b1\n",
    "    del1 = np.multiply((w2@del2.T).flatten(),np.where(a1 > 0, 1, 0)) \n",
    "    dw1 = x.reshape(12,1)@del1.reshape(1,model[1])\n",
    "    db1 = np.sum(del1)\n",
    "    \n",
    "    # Updating all                      \n",
    "    w2 = w2 - alpha*dw2\n",
    "    b2 = b2 - alpha*db2\n",
    "    w1 = w1 - alpha*dw1\n",
    "    b1 = b1 - alpha*db1\n",
    "    \n",
    "    return w1,b1,w2,b2\n",
    "    "
   ]
  },
  {
   "cell_type": "markdown",
   "id": "0b889fd0",
   "metadata": {},
   "source": [
    "### Train & Predict Functions"
   ]
  },
  {
   "cell_type": "code",
   "execution_count": 8,
   "id": "f76dd97b",
   "metadata": {},
   "outputs": [],
   "source": [
    "def train(X,train_labels,model,alpha):\n",
    "    w1,b1,w2,b2 = initialize(model)\n",
    "    y_ohe = binary_encoder(train_labels)\n",
    "    \n",
    "    l = []\n",
    "\n",
    "    for _ in range(20):\n",
    "        y2_holder = []\n",
    "\n",
    "        for i,x in enumerate(X):\n",
    "            y2,y1,a1 = forward(x,w1,b1,w2,b2)\n",
    "            y2_holder.append(y2)\n",
    "            w1,b1,w2,b2 = update_all(a1,y1,y2,y_ohe[i],x,w2,b2,w1,b1,alpha)\n",
    "\n",
    "\n",
    "        l.append(loss(np.array(y2_holder),y_ohe))\n",
    "    \n",
    "    plt.figure(figsize = (7,7))\n",
    "    plt.plot(l)\n",
    "    plt.title(\"Convergence Plot\")\n",
    "    plt.xlabel(\"# Epochs\")\n",
    "    plt.ylabel(\"Loss Value\")\n",
    "    plt.grid()\n",
    "    plt.show()\n",
    "    print(\"FINAL LOSS = \",l[-1])\n",
    "    return w1,b1,w2,b2\n",
    "\n",
    "def predict(test_data,test_labels):\n",
    "    y_hat = np.zeros(test_data.shape[0])\n",
    "\n",
    "    for i in range(len(test_data)):\n",
    "        ans = forward(test_data[i],w1,b1,w2,b2)[0]\n",
    "        y_hat[i] = np.argmax(ans)\n",
    "    \n",
    "    acc = (np.sum(y_hat==test_labels)/len(test_labels))*100\n",
    "    \n",
    "    return acc\n",
    "    "
   ]
  },
  {
   "cell_type": "markdown",
   "id": "f5951862",
   "metadata": {},
   "source": [
    "## TRAINING & TESTING WITH GIVEN MODELS"
   ]
  },
  {
   "cell_type": "code",
   "execution_count": 9,
   "id": "afaf3e69",
   "metadata": {},
   "outputs": [
    {
     "data": {
      "image/png": "[encoded data removed]",
      "text/plain": [
       "<Figure size 504x504 with 1 Axes>"
      ]
     },
     "metadata": {
      "needs_background": "light"
     },
     "output_type": "display_data"
    },
    {
     "name": "stdout",
     "output_type": "stream",
     "text": [
      "FINAL LOSS =  0.054329454545715306\n",
      "TRAIN ACCURACY =  100.0 %\n",
      "TEST ACCURACY =  90.0 %\n"
     ]
    }
   ],
   "source": [
    "model = [12,10,2]\n",
    "alpha = 0.001  # This value of alpha worked best for the data\n",
    "w1,b1,w2,b2 = train(X,train_labels,model,alpha)\n",
    "acc = predict(X,train_labels)\n",
    "print(\"TRAIN ACCURACY = \",acc,'%')\n",
    "acc = predict(test_data,test_labels)\n",
    "print(\"TEST ACCURACY = \",acc,'%')"
   ]
  },
  {
   "cell_type": "code",
   "execution_count": 10,
   "id": "bd09da90",
   "metadata": {},
   "outputs": [
    {
     "data": {
      "image/png": "[encoded data removed]",
      "text/plain": [
       "<Figure size 504x504 with 1 Axes>"
      ]
     },
     "metadata": {
      "needs_background": "light"
     },
     "output_type": "display_data"
    },
    {
     "name": "stdout",
     "output_type": "stream",
     "text": [
      "FINAL LOSS =  0.0604057292106364\n",
      "TRAIN ACCURACY =  100.0 %\n",
      "TEST ACCURACY =  70.0 %\n"
     ]
    }
   ],
   "source": [
    "model = [12,15,2]\n",
    "alpha = 0.001  # Keeping alpha same as before for comparative test\n",
    "w1,b1,w2,b2 = train(X,train_labels,model,alpha)\n",
    "acc = predict(X,train_labels)\n",
    "print(\"TRAIN ACCURACY = \",acc,'%')\n",
    "acc = predict(test_data,test_labels)\n",
    "print(\"TEST ACCURACY = \",acc,'%')"
   ]
  },
  {
   "cell_type": "markdown",
   "id": "9b4ece1b",
   "metadata": {},
   "source": [
    "### On increasing the number of neurons to 15, the model gets less precise as evident by the drop in test accuracy. Also, the final value of loss increases by around 10%. This can be caused by a possible underfit as evident by the larger final loss value. More number of neurons might suggest a possible overfit but that is not as seen with the loss; i.e. overfitting is characterized by small training loss and obviously less test accuracy, but it is not the case. Underfitting on the other hand would result in large values of loss and less test accuracy. This underfitting can be based on the fact that number of epochs are very low and also attributed to the data itself."
   ]
  }
 ],
 "metadata": {
  "kernelspec": {
   "display_name": "Python 3 (ipykernel)",
   "language": "python",
   "name": "python3"
  },
  "language_info": {
   "codemirror_mode": {
    "name": "ipython",
    "version": 3
   },
   "file_extension": ".py",
   "mimetype": "text/x-python",
   "name": "python",
   "nbconvert_exporter": "python",
   "pygments_lexer": "ipython3",
   "version": "3.8.8"
  }
 },
 "nbformat": 4,
 "nbformat_minor": 5
}
